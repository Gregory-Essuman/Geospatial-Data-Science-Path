{
 "cells": [
  {
   "cell_type": "markdown",
   "metadata": {},
   "source": [
    "## Problem 4: What is the closest shopping center from your home / work? (5 points)\n",
    "\n",
    "In the last problem you should find out the closest shopping center from two different locations a) your home and b) work place (or any two points in the Helsinki Region..).\n",
    "\n",
    "**Steps**:\n",
    "\n",
    " - Create a txt-file called `activity_locations.txt` (use same formatting as in Problem 1) with two columns:\n",
    "    - `id`: unique id for each row\n",
    "    - `addr`:  address of your work and home (or any two addresses in the Helsinki Region.)\n",
    "    \n",
    "Save the text file into this repository.\n",
    "    \n",
    " - Read those addresses using pandas and geocode the addresses.\n",
    " - Find out the nearest shopping center to these points using Shapely `nearest_points`.\n",
    " - Print out the name of the shopping center that is nearest to a) home and b) work. For example: `Shopping center closest to home: REDI`."
   ]
  },
  {
   "cell_type": "code",
   "execution_count": 1,
   "metadata": {},
   "outputs": [],
   "source": [
    "import pandas as pd\n",
    "import geopandas as gpd\n",
    "from shapely.geometry import Point, MultiPoint\n",
    "from shapely.ops import nearest_points \n",
    "from geopandas.tools import geocode\n",
    "from pyproj import CRS"
   ]
  },
  {
   "cell_type": "code",
   "execution_count": 2,
   "metadata": {
    "deletable": false,
    "nbgrader": {
     "cell_type": "code",
     "checksum": "f8d9bb1491a5675d77264cebbf529f88",
     "grade": false,
     "grade_id": "read_data",
     "locked": false,
     "schema_version": 3,
     "solution": true
    }
   },
   "outputs": [
    {
     "name": "stdout",
     "output_type": "stream",
     "text": [
      "     id                                       addr\n",
      "0  1000    Kalevankatu 9a, 00100 Helsinki, Finland\n",
      "1  1001  Yliopistonkatu 4, 00100 Helsinki, Finland\n"
     ]
    },
    {
     "data": {
      "text/html": [
       "<div>\n",
       "<style scoped>\n",
       "    .dataframe tbody tr th:only-of-type {\n",
       "        vertical-align: middle;\n",
       "    }\n",
       "\n",
       "    .dataframe tbody tr th {\n",
       "        vertical-align: top;\n",
       "    }\n",
       "\n",
       "    .dataframe thead th {\n",
       "        text-align: right;\n",
       "    }\n",
       "</style>\n",
       "<table border=\"1\" class=\"dataframe\">\n",
       "  <thead>\n",
       "    <tr style=\"text-align: right;\">\n",
       "      <th></th>\n",
       "      <th>address</th>\n",
       "      <th>id</th>\n",
       "      <th>name</th>\n",
       "      <th>addr</th>\n",
       "      <th>geometry</th>\n",
       "    </tr>\n",
       "  </thead>\n",
       "  <tbody>\n",
       "    <tr>\n",
       "      <th>0</th>\n",
       "      <td>Kauppakeskus Itis, 1-7, Itäkatu, Itäkeskus, Va...</td>\n",
       "      <td>1000</td>\n",
       "      <td>Itis</td>\n",
       "      <td>Itäkatu 1-7, 00930 Helsinki, Finland</td>\n",
       "      <td>POINT (25504598.602 6677662.109)</td>\n",
       "    </tr>\n",
       "    <tr>\n",
       "      <th>1</th>\n",
       "      <td>Salaattiasema, 14-20, Mannerheimintie, Keskust...</td>\n",
       "      <td>1001</td>\n",
       "      <td>Forum</td>\n",
       "      <td>Mannerheimintie 14?20, 00100 Helsinki, Finland</td>\n",
       "      <td>POINT (25496573.542 6672878.360)</td>\n",
       "    </tr>\n",
       "    <tr>\n",
       "      <th>2</th>\n",
       "      <td>Captain Corvus, 11, Piispansilta, Matinkylän k...</td>\n",
       "      <td>1002</td>\n",
       "      <td>Iso-omena</td>\n",
       "      <td>Piispansilta 11, 02230 Espoo, Finland</td>\n",
       "      <td>POINT (25485456.867 6671954.184)</td>\n",
       "    </tr>\n",
       "    <tr>\n",
       "      <th>3</th>\n",
       "      <td>Lasten kappeli Arkki, 3-9, Leppävaarankatu, Sä...</td>\n",
       "      <td>1003</td>\n",
       "      <td>Sello</td>\n",
       "      <td>Leppävaarankatu 3-9, 02600 Espoo, Finland</td>\n",
       "      <td>POINT (25489491.076 6678322.265)</td>\n",
       "    </tr>\n",
       "    <tr>\n",
       "      <th>4</th>\n",
       "      <td>Stockmann, 3, Vantaanportinkatu, Vantaanportti...</td>\n",
       "      <td>1004</td>\n",
       "      <td>Jumbo</td>\n",
       "      <td>Vantaanportinkatu 3, 01510 Vantaa, Finland</td>\n",
       "      <td>POINT (25497943.932 6686656.982)</td>\n",
       "    </tr>\n",
       "    <tr>\n",
       "      <th>5</th>\n",
       "      <td>Silta, 5, Hermannin rantatie, Verkkosaari, Kal...</td>\n",
       "      <td>1005</td>\n",
       "      <td>Redi</td>\n",
       "      <td>Hermannin rantatie 5, 00580 Helsinki, Finland</td>\n",
       "      <td>POINT (25498837.156 6674909.983)</td>\n",
       "    </tr>\n",
       "    <tr>\n",
       "      <th>6</th>\n",
       "      <td>None</td>\n",
       "      <td>1006</td>\n",
       "      <td>Mall of Tripla</td>\n",
       "      <td>Fredikanterassi 1, 00520 Helsinki, Finland</td>\n",
       "      <td>POINT (25496131.965 6676190.570)</td>\n",
       "    </tr>\n",
       "  </tbody>\n",
       "</table>\n",
       "</div>"
      ],
      "text/plain": [
       "                                             address    id            name  \\\n",
       "0  Kauppakeskus Itis, 1-7, Itäkatu, Itäkeskus, Va...  1000            Itis   \n",
       "1  Salaattiasema, 14-20, Mannerheimintie, Keskust...  1001           Forum   \n",
       "2  Captain Corvus, 11, Piispansilta, Matinkylän k...  1002       Iso-omena   \n",
       "3  Lasten kappeli Arkki, 3-9, Leppävaarankatu, Sä...  1003           Sello   \n",
       "4  Stockmann, 3, Vantaanportinkatu, Vantaanportti...  1004           Jumbo   \n",
       "5  Silta, 5, Hermannin rantatie, Verkkosaari, Kal...  1005            Redi   \n",
       "6                                               None  1006  Mall of Tripla   \n",
       "\n",
       "                                             addr  \\\n",
       "0            Itäkatu 1-7, 00930 Helsinki, Finland   \n",
       "1  Mannerheimintie 14?20, 00100 Helsinki, Finland   \n",
       "2           Piispansilta 11, 02230 Espoo, Finland   \n",
       "3       Leppävaarankatu 3-9, 02600 Espoo, Finland   \n",
       "4      Vantaanportinkatu 3, 01510 Vantaa, Finland   \n",
       "5   Hermannin rantatie 5, 00580 Helsinki, Finland   \n",
       "6      Fredikanterassi 1, 00520 Helsinki, Finland   \n",
       "\n",
       "                           geometry  \n",
       "0  POINT (25504598.602 6677662.109)  \n",
       "1  POINT (25496573.542 6672878.360)  \n",
       "2  POINT (25485456.867 6671954.184)  \n",
       "3  POINT (25489491.076 6678322.265)  \n",
       "4  POINT (25497943.932 6686656.982)  \n",
       "5  POINT (25498837.156 6674909.983)  \n",
       "6  POINT (25496131.965 6676190.570)  "
      ]
     },
     "execution_count": 2,
     "metadata": {},
     "output_type": "execute_result"
    }
   ],
   "source": [
    "# read in input files\n",
    "\n",
    "fp = r\"activity_locations.txt\"\n",
    "data = pd.read_csv(fp, sep=\";\")\n",
    "print(data.head())\n",
    "\n",
    "sc_fp = \"shopping_centers.shp\"\n",
    "shoppingcentres = gpd.read_file(sc_fp)\n",
    "shoppingcentres.head(7)"
   ]
  },
  {
   "cell_type": "code",
   "execution_count": 3,
   "metadata": {
    "deletable": false,
    "nbgrader": {
     "cell_type": "code",
     "checksum": "cde51574e6cd404266ead2aad7ac5938",
     "grade": false,
     "grade_id": "geocode",
     "locked": false,
     "schema_version": 3,
     "solution": true,
     "task": false
    }
   },
   "outputs": [
    {
     "data": {
      "text/html": [
       "<div>\n",
       "<style scoped>\n",
       "    .dataframe tbody tr th:only-of-type {\n",
       "        vertical-align: middle;\n",
       "    }\n",
       "\n",
       "    .dataframe tbody tr th {\n",
       "        vertical-align: top;\n",
       "    }\n",
       "\n",
       "    .dataframe thead th {\n",
       "        text-align: right;\n",
       "    }\n",
       "</style>\n",
       "<table border=\"1\" class=\"dataframe\">\n",
       "  <thead>\n",
       "    <tr style=\"text-align: right;\">\n",
       "      <th></th>\n",
       "      <th>geometry</th>\n",
       "      <th>address</th>\n",
       "    </tr>\n",
       "  </thead>\n",
       "  <tbody>\n",
       "    <tr>\n",
       "      <th>0</th>\n",
       "      <td>POINT (24.93369 60.16583)</td>\n",
       "      <td>Kalevankatu, Kamppi, Eteläinen suurpiiri, Hels...</td>\n",
       "    </tr>\n",
       "    <tr>\n",
       "      <th>1</th>\n",
       "      <td>POINT (24.94874 60.16972)</td>\n",
       "      <td>UniSport, Kluuvi, 4, Yliopistonkatu, Kaisaniem...</td>\n",
       "    </tr>\n",
       "  </tbody>\n",
       "</table>\n",
       "</div>"
      ],
      "text/plain": [
       "                    geometry  \\\n",
       "0  POINT (24.93369 60.16583)   \n",
       "1  POINT (24.94874 60.16972)   \n",
       "\n",
       "                                             address  \n",
       "0  Kalevankatu, Kamppi, Eteläinen suurpiiri, Hels...  \n",
       "1  UniSport, Kluuvi, 4, Yliopistonkatu, Kaisaniem...  "
      ]
     },
     "execution_count": 3,
     "metadata": {},
     "output_type": "execute_result"
    }
   ],
   "source": [
    "# Geocode activity locations\n",
    "\n",
    "geo = geocode(data['addr'], provider='nominatim', user_agent='Gregg_Autogis', timeout=4)\n",
    "geo.head()"
   ]
  },
  {
   "cell_type": "code",
   "execution_count": 8,
   "metadata": {
    "deletable": false,
    "nbgrader": {
     "cell_type": "code",
     "checksum": "866e8fe33cb5b2e5f7d3fbecd76130f1",
     "grade": false,
     "grade_id": "check_crs",
     "locked": false,
     "schema_version": 3,
     "solution": true,
     "task": false
    }
   },
   "outputs": [
    {
     "data": {
      "text/plain": [
       "True"
      ]
     },
     "execution_count": 8,
     "metadata": {},
     "output_type": "execute_result"
    }
   ],
   "source": [
    "# Check coordinate reference system information (re-project/define if needed)\n",
    "\n",
    "geo = geo.to_crs(epsg=3879)\n",
    "geo.crs == shoppingcentres.crs"
   ]
  },
  {
   "cell_type": "code",
   "execution_count": 18,
   "metadata": {
    "deletable": false,
    "nbgrader": {
     "cell_type": "code",
     "checksum": "5c1d055ae749e65f0c63e487b074ad21",
     "grade": false,
     "grade_id": "nearest_points",
     "locked": false,
     "schema_version": 3,
     "solution": true,
     "task": false
    }
   },
   "outputs": [
    {
     "name": "stdout",
     "output_type": "stream",
     "text": [
      "Shopping center closest to home is: Forum\n",
      "Shopping center closest to work is: Forum\n"
     ]
    },
    {
     "data": {
      "text/html": [
       "<div>\n",
       "<style scoped>\n",
       "    .dataframe tbody tr th:only-of-type {\n",
       "        vertical-align: middle;\n",
       "    }\n",
       "\n",
       "    .dataframe tbody tr th {\n",
       "        vertical-align: top;\n",
       "    }\n",
       "\n",
       "    .dataframe thead th {\n",
       "        text-align: right;\n",
       "    }\n",
       "</style>\n",
       "<table border=\"1\" class=\"dataframe\">\n",
       "  <thead>\n",
       "    <tr style=\"text-align: right;\">\n",
       "      <th></th>\n",
       "      <th>geometry</th>\n",
       "      <th>address</th>\n",
       "      <th>nearest_loc</th>\n",
       "    </tr>\n",
       "  </thead>\n",
       "  <tbody>\n",
       "    <tr>\n",
       "      <th>0</th>\n",
       "      <td>POINT (25496318.708 6672550.434)</td>\n",
       "      <td>Kalevankatu, Kamppi, Eteläinen suurpiiri, Hels...</td>\n",
       "      <td>Forum</td>\n",
       "    </tr>\n",
       "    <tr>\n",
       "      <th>1</th>\n",
       "      <td>POINT (25497154.366 6672982.716)</td>\n",
       "      <td>UniSport, Kluuvi, 4, Yliopistonkatu, Kaisaniem...</td>\n",
       "      <td>Forum</td>\n",
       "    </tr>\n",
       "  </tbody>\n",
       "</table>\n",
       "</div>"
      ],
      "text/plain": [
       "                           geometry  \\\n",
       "0  POINT (25496318.708 6672550.434)   \n",
       "1  POINT (25497154.366 6672982.716)   \n",
       "\n",
       "                                             address nearest_loc  \n",
       "0  Kalevankatu, Kamppi, Eteläinen suurpiiri, Hels...       Forum  \n",
       "1  UniSport, Kluuvi, 4, Yliopistonkatu, Kaisaniem...       Forum  "
      ]
     },
     "execution_count": 18,
     "metadata": {},
     "output_type": "execute_result"
    }
   ],
   "source": [
    "# Find the closest shopping center for each activity location (closest shopping center from\n",
    "# and closest shopping center from work) and print out the results:\n",
    "\n",
    "def get_nearest_values(row, other_gdf, point_column='geometry', value_column=\"name\"):\n",
    "    \"\"\"Find the nearest point and return the corresponding value from specified value column.\"\"\"\n",
    "    \n",
    "    # Create an union of the other GeoDataFrame's geometries:\n",
    "    other_points = other_gdf[\"geometry\"].unary_union\n",
    "    \n",
    "    # Find the nearest points\n",
    "    nearest_geoms = nearest_points(row[point_column], other_points)\n",
    "    \n",
    "    # Get corresponding values from the other df\n",
    "    nearest_data = other_gdf.loc[other_gdf[\"geometry\"] == nearest_geoms[1]]\n",
    "    \n",
    "    nearest_value = nearest_data[value_column].values[0]\n",
    "    \n",
    "    return nearest_value\n",
    "\n",
    "geo[\"nearest_loc\"] = geo.apply(get_nearest_values, other_gdf=shoppingcentres, point_column='geometry', value_column='name', axis=1)\n",
    "\n",
    "print(\"Shopping center closest to home is:\", geo.loc[0,'nearest_loc'])\n",
    "print(\"Shopping center closest to work is:\", geo.loc[1,'nearest_loc'])\n",
    "geo.head(7)"
   ]
  },
  {
   "cell_type": "markdown",
   "metadata": {},
   "source": [
    "Can you think of other application cases for the nearest neighbour analysis?"
   ]
  },
  {
   "cell_type": "markdown",
   "metadata": {
    "deletable": false,
    "nbgrader": {
     "cell_type": "markdown",
     "checksum": "b8e2fada1ee7e8553010aba227e89bfb",
     "grade": true,
     "grade_id": "problem_4_check",
     "locked": false,
     "points": 5,
     "schema_version": 3,
     "solution": true
    }
   },
   "source": [
    "YOUR ANSWER HERE"
   ]
  }
 ],
 "metadata": {
  "anaconda-cloud": {},
  "kernelspec": {
   "display_name": "Python 3",
   "language": "python",
   "name": "python3"
  },
  "language_info": {
   "codemirror_mode": {
    "name": "ipython",
    "version": 3
   },
   "file_extension": ".py",
   "mimetype": "text/x-python",
   "name": "python",
   "nbconvert_exporter": "python",
   "pygments_lexer": "ipython3",
   "version": "3.9.5"
  }
 },
 "nbformat": 4,
 "nbformat_minor": 4
}
