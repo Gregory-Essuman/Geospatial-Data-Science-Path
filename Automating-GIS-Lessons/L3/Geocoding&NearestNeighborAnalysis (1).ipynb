{
 "cells": [
  {
   "cell_type": "markdown",
   "metadata": {},
   "source": [
    "## Problem 1: Geocode shopping centers (5 points)\n",
    "\n",
    "The aim of problems 1-3 is to find out **how many people live within a walking distance (1.5 km) from selected shopping centers in Helsinki**.\n",
    "\n",
    "In problem 1 the task is to find out the addresses for a list of shopping centers and to geocode these addresses in order to represent them as points. The output should be stored in a Shapefile called `shopping_centers.shp` \n",
    "\n",
    "**Preparation:** Find out the addresses for following shopping centers from the internet, and write the addresses into a text file called `shopping_centers.txt`:\n",
    "\n",
    " - Itis\n",
    " - Forum\n",
    " - Iso-omena\n",
    " - Sello\n",
    " - Jumbo\n",
    " - REDI\n",
    " - Mall of Tripla \n",
    " \n",
    "\n",
    "`shopping_centers.txt` should have semicolon (`;`) as a separator, and the file should include the following columns:\n",
    "\n",
    "- ``id`` (integer) containing an unique identifier for each shopping center\n",
    "- ``name`` (string) of each shopping center\n",
    "- ``addr`` (string) the address \n",
    "\n",
    "\n",
    "See and example of how to format the text file [in the lesson 3 materials](https://autogis-site.readthedocs.io/en/latest/notebooks/L3/geocoding_in_geopandas.html). Save (and upload) the text file into your exercise repository.\n",
    "\n",
    "- Read `shopping_centers.txt` that you just created into a pandas DataFrame called ``data``:"
   ]
  },
  {
   "cell_type": "code",
   "execution_count": 1,
   "metadata": {
    "deletable": false,
    "nbgrader": {
     "cell_type": "code",
     "checksum": "7de89a15a19f7c81c62cc7fe98d6b668",
     "grade": false,
     "grade_id": "read_data",
     "locked": false,
     "schema_version": 3,
     "solution": true
    }
   },
   "outputs": [],
   "source": [
    "# Import modules\n",
    "import pandas as pd\n",
    "import matplotlib.pyplot as plt\n",
    "import geopandas as gpd\n",
    "import requests\n",
    "import geojson\n",
    "from pyproj import CRS\n",
    "from shapely.geometry import Point\n",
    "from geopandas.tools import geocode\n",
    "\n",
    "# Read the data \n",
    "fp = r\"shopping_centers.txt\"\n",
    "data = pd.read_csv(fp, sep=';')"
   ]
  },
  {
   "cell_type": "code",
   "execution_count": 2,
   "metadata": {
    "deletable": false,
    "editable": false,
    "nbgrader": {
     "cell_type": "code",
     "checksum": "4e90dc0406dff7a0f4b0860443092087",
     "grade": true,
     "grade_id": "problem_1_read_data_tests",
     "locked": true,
     "points": 1,
     "schema_version": 3,
     "solution": false
    }
   },
   "outputs": [
    {
     "name": "stdout",
     "output_type": "stream",
     "text": [
      "     id            name                                            addr\n",
      "0  1000            Itis            Itäkatu 1-7, 00930 Helsinki, Finland\n",
      "1  1001           Forum  Mannerheimintie 14–20, 00100 Helsinki, Finland\n",
      "2  1002       Iso-omena           Piispansilta 11, 02230 Espoo, Finland\n",
      "3  1003           Sello       Leppävaarankatu 3-9, 02600 Espoo, Finland\n",
      "4  1004           Jumbo      Vantaanportinkatu 3, 01510 Vantaa, Finland\n",
      "5  1005            Redi   Hermannin rantatie 5, 00580 Helsinki, Finland\n",
      "6  1006  Mall of Tripla      Fredikanterassi 1, 00520 Helsinki, Finland\n"
     ]
    }
   ],
   "source": [
    "#NON-EDITABLE TEST CELL\n",
    "# Check your input data\n",
    "print(data)"
   ]
  },
  {
   "cell_type": "markdown",
   "metadata": {},
   "source": [
    "- Geocode the addresses using the Nominatim geocoding service. Store the output in a variable called `geo`:"
   ]
  },
  {
   "cell_type": "code",
   "execution_count": 1,
   "metadata": {
    "deletable": false,
    "nbgrader": {
     "cell_type": "code",
     "checksum": "2feb8b7739bd1a824b39c3a1d0af369f",
     "grade": false,
     "grade_id": "geocode",
     "locked": false,
     "schema_version": 3,
     "solution": true
    }
   },
   "outputs": [],
   "source": [
    "# Geocode the addresses using Nominatim\n",
    "geo = geocode(data['addr'], provider='nominatim', user_agent='Gregg_Autogis', timeout=4)\n",
    "mall_of_tripla = Point(24.930262169736544, 60.198500308207706)\n",
    "print(mall_of_tripla)\n",
    "geo.loc[6,'geometry'] = mall_of_tripla"
   ]
  },
  {
   "cell_type": "code",
   "execution_count": 4,
   "metadata": {
    "deletable": false,
    "editable": false,
    "nbgrader": {
     "cell_type": "code",
     "checksum": "a3b8c4fef69c89dbb3299b84c11d3db7",
     "grade": true,
     "grade_id": "problem_1_gdf_test",
     "locked": true,
     "points": 1,
     "schema_version": 3,
     "solution": false,
     "task": false
    }
   },
   "outputs": [
    {
     "name": "stdout",
     "output_type": "stream",
     "text": [
      "                    geometry  \\\n",
      "0  POINT (25.08294 60.21170)   \n",
      "1  POINT (24.93828 60.16878)   \n",
      "2  POINT (24.73810 60.16024)   \n",
      "3  POINT (24.81042 60.21752)   \n",
      "4  POINT (24.96282 60.29245)   \n",
      "5  POINT (24.97904 60.18702)   \n",
      "6  POINT (24.93026 60.19850)   \n",
      "\n",
      "                                             address  \n",
      "0  Kauppakeskus Itis, 1-7, Itäkatu, Itäkeskus, Va...  \n",
      "1  Salaattiasema, 14-20, Mannerheimintie, Keskust...  \n",
      "2  Captain Corvus, 11, Piispansilta, Matinkylän k...  \n",
      "3  Lasten kappeli Arkki, 3-9, Leppävaarankatu, Sä...  \n",
      "4  Stockmann, 3, Vantaanportinkatu, Vantaanportti...  \n",
      "5  Silta, 5, Hermannin rantatie, Verkkosaari, Kal...  \n",
      "6                                               None  \n"
     ]
    }
   ],
   "source": [
    "#NON-EDITABLE TEST CELL\n",
    "# Check the geocoded output\n",
    "print(geo)"
   ]
  },
  {
   "cell_type": "code",
   "execution_count": 5,
   "metadata": {
    "deletable": false,
    "editable": false,
    "nbgrader": {
     "cell_type": "code",
     "checksum": "f2e432e605330a668b5bfdbbbd12569e",
     "grade": true,
     "grade_id": "problem_1_geocode_tests",
     "locked": true,
     "points": 1,
     "schema_version": 3,
     "solution": false
    }
   },
   "outputs": [
    {
     "name": "stdout",
     "output_type": "stream",
     "text": [
      "<class 'geopandas.geodataframe.GeoDataFrame'>\n"
     ]
    }
   ],
   "source": [
    "#NON-EDITABLE TEST CELL\n",
    "# Check the data type (should be a GeoDataFrame!)\n",
    "print(type(geo))"
   ]
  },
  {
   "cell_type": "markdown",
   "metadata": {},
   "source": [
    "Check that the coordinate reference system of the geocoded result is correctly defined, and **reproject the layer into ETRS GK-25** (EPSG:3879):"
   ]
  },
  {
   "cell_type": "code",
   "execution_count": 6,
   "metadata": {
    "deletable": false,
    "nbgrader": {
     "cell_type": "code",
     "checksum": "b0159d35f45f5454fae6b5d67858b986",
     "grade": false,
     "grade_id": "crs",
     "locked": false,
     "schema_version": 3,
     "solution": true
    }
   },
   "outputs": [],
   "source": [
    "geo = geo.to_crs(epsg=3879)"
   ]
  },
  {
   "cell_type": "code",
   "execution_count": 7,
   "metadata": {
    "deletable": false,
    "editable": false,
    "nbgrader": {
     "cell_type": "code",
     "checksum": "764cba257612241267e3b2bcc90b5dcd",
     "grade": true,
     "grade_id": "problem_1_crs_test",
     "locked": true,
     "points": 0.5,
     "schema_version": 3,
     "solution": false
    }
   },
   "outputs": [
    {
     "name": "stdout",
     "output_type": "stream",
     "text": [
      "epsg:3879\n"
     ]
    }
   ],
   "source": [
    "#NON-EDITABLE TEST CELL\n",
    "# Check layer crs\n",
    "print(geo.crs)"
   ]
  },
  {
   "cell_type": "markdown",
   "metadata": {},
   "source": [
    "- Make a table join between the geocoded addresses (``geo``) and the original addresses (``data``) in order to link the numerical coordinates and  the `id` and `name` of each shopping center. \n",
    "- Store the output in a variable called ``geodata`` \n"
   ]
  },
  {
   "cell_type": "code",
   "execution_count": 8,
   "metadata": {
    "deletable": false,
    "nbgrader": {
     "cell_type": "code",
     "checksum": "aca9ef4ece824d53650aec8c0fafc38d",
     "grade": false,
     "grade_id": "join",
     "locked": false,
     "schema_version": 3,
     "solution": true
    }
   },
   "outputs": [],
   "source": [
    "# Join the tables\n",
    "geodata = geo.join(data)"
   ]
  },
  {
   "cell_type": "code",
   "execution_count": 9,
   "metadata": {
    "deletable": false,
    "editable": false,
    "nbgrader": {
     "cell_type": "code",
     "checksum": "98d25baeb42eaeb2701f09f42c8c84c5",
     "grade": true,
     "grade_id": "problem_1_join_test",
     "locked": true,
     "points": 1,
     "schema_version": 3,
     "solution": false
    }
   },
   "outputs": [
    {
     "name": "stdout",
     "output_type": "stream",
     "text": [
      "                           geometry  \\\n",
      "0  POINT (25504598.602 6677662.109)   \n",
      "1  POINT (25496573.542 6672878.360)   \n",
      "2  POINT (25485456.867 6671954.184)   \n",
      "3  POINT (25489491.076 6678322.265)   \n",
      "4  POINT (25497943.932 6686656.982)   \n",
      "\n",
      "                                             address    id       name  \\\n",
      "0  Kauppakeskus Itis, 1-7, Itäkatu, Itäkeskus, Va...  1000       Itis   \n",
      "1  Salaattiasema, 14-20, Mannerheimintie, Keskust...  1001      Forum   \n",
      "2  Captain Corvus, 11, Piispansilta, Matinkylän k...  1002  Iso-omena   \n",
      "3  Lasten kappeli Arkki, 3-9, Leppävaarankatu, Sä...  1003      Sello   \n",
      "4  Stockmann, 3, Vantaanportinkatu, Vantaanportti...  1004      Jumbo   \n",
      "\n",
      "                                             addr  \n",
      "0            Itäkatu 1-7, 00930 Helsinki, Finland  \n",
      "1  Mannerheimintie 14–20, 00100 Helsinki, Finland  \n",
      "2           Piispansilta 11, 02230 Espoo, Finland  \n",
      "3       Leppävaarankatu 3-9, 02600 Espoo, Finland  \n",
      "4      Vantaanportinkatu 3, 01510 Vantaa, Finland  \n"
     ]
    }
   ],
   "source": [
    "#NON-EDITABLE TEST CELL\n",
    "# Check the join output\n",
    "print(geodata.head())"
   ]
  },
  {
   "cell_type": "markdown",
   "metadata": {},
   "source": [
    "- Save the output as a Shapefile called `shopping_centers.shp` "
   ]
  },
  {
   "cell_type": "code",
   "execution_count": 10,
   "metadata": {
    "deletable": false,
    "nbgrader": {
     "cell_type": "code",
     "checksum": "362eacaf5abe4a319dda3a28a04ef594",
     "grade": false,
     "grade_id": "save_data",
     "locked": false,
     "schema_version": 3,
     "solution": true
    }
   },
   "outputs": [],
   "source": [
    "# Define output filepath\n",
    "out_fp = \"shopping_centers.shp\"\n",
    "\n",
    "# Save file\n",
    "geodata.to_file(out_fp)"
   ]
  },
  {
   "cell_type": "code",
   "execution_count": 11,
   "metadata": {
    "deletable": false,
    "editable": false,
    "nbgrader": {
     "cell_type": "code",
     "checksum": "80aac786841c50c2fd08ca078bc13a56",
     "grade": true,
     "grade_id": "problem_1_save_data_test",
     "locked": true,
     "points": 0.5,
     "schema_version": 3,
     "solution": false
    }
   },
   "outputs": [
    {
     "name": "stdout",
     "output_type": "stream",
     "text": [
      "Geocoded output is stored in this file: shopping_centers.shp\n"
     ]
    }
   ],
   "source": [
    "#NON-EDITABLE TEST CELL\n",
    "# Print info about output file\n",
    "print(\"Geocoded output is stored in this file:\", out_fp)"
   ]
  },
  {
   "cell_type": "markdown",
   "metadata": {},
   "source": [
    "## Problem 2: Create buffers around shopping centers (5 points)\n",
    "\n",
    "Let's continue with our case study and calculate a 1.5 km buffer around the geocoded points. \n",
    "\n",
    "\n",
    "- Start by creating a new column called `buffer` to ``geodata`` GeoDataFrame:"
   ]
  },
  {
   "cell_type": "code",
   "execution_count": 12,
   "metadata": {
    "deletable": false,
    "nbgrader": {
     "cell_type": "code",
     "checksum": "908d9a6ea9f7776e8eeeefcfe920c9a0",
     "grade": false,
     "grade_id": "new_column",
     "locked": false,
     "schema_version": 3,
     "solution": true
    }
   },
   "outputs": [],
   "source": [
    "geodata['buffer'] = 0"
   ]
  },
  {
   "cell_type": "markdown",
   "metadata": {},
   "source": [
    "- Calculate a 1.5 km buffer for each geocoded point. Store the buffer geometry in the new `buffer` column.\n",
    "\n",
    "Here, you can use the [GeoDataFrame buffer() method](http://geopandas.org/geometric_manipulations.html#GeoSeries.buffer), which uses Shapely's [buffer](http://toblerity.org/shapely/manual.html#object.buffer) in the bacground. You only need to use the `distance` -parameter, don't worry about the other parameters."
   ]
  },
  {
   "cell_type": "code",
   "execution_count": 13,
   "metadata": {
    "deletable": false,
    "nbgrader": {
     "cell_type": "code",
     "checksum": "f45cb9b3fa88f50f0f83991d3f132643",
     "grade": false,
     "grade_id": "buffer",
     "locked": false,
     "schema_version": 3,
     "solution": true
    }
   },
   "outputs": [],
   "source": [
    "geodata['buffer'] = geodata['geometry'].buffer(1500)"
   ]
  },
  {
   "cell_type": "code",
   "execution_count": 14,
   "metadata": {
    "deletable": false,
    "editable": false,
    "nbgrader": {
     "cell_type": "code",
     "checksum": "e2765a36c4eb2331624d3b990eccfe9f",
     "grade": true,
     "grade_id": "problem_2_column_test",
     "locked": true,
     "points": 1,
     "schema_version": 3,
     "solution": false,
     "task": false
    }
   },
   "outputs": [
    {
     "name": "stdout",
     "output_type": "stream",
     "text": [
      "                           geometry  \\\n",
      "0  POINT (25504598.602 6677662.109)   \n",
      "1  POINT (25496573.542 6672878.360)   \n",
      "2  POINT (25485456.867 6671954.184)   \n",
      "3  POINT (25489491.076 6678322.265)   \n",
      "4  POINT (25497943.932 6686656.982)   \n",
      "\n",
      "                                             address    id       name  \\\n",
      "0  Kauppakeskus Itis, 1-7, Itäkatu, Itäkeskus, Va...  1000       Itis   \n",
      "1  Salaattiasema, 14-20, Mannerheimintie, Keskust...  1001      Forum   \n",
      "2  Captain Corvus, 11, Piispansilta, Matinkylän k...  1002  Iso-omena   \n",
      "3  Lasten kappeli Arkki, 3-9, Leppävaarankatu, Sä...  1003      Sello   \n",
      "4  Stockmann, 3, Vantaanportinkatu, Vantaanportti...  1004      Jumbo   \n",
      "\n",
      "                                             addr  \\\n",
      "0            Itäkatu 1-7, 00930 Helsinki, Finland   \n",
      "1  Mannerheimintie 14–20, 00100 Helsinki, Finland   \n",
      "2           Piispansilta 11, 02230 Espoo, Finland   \n",
      "3       Leppävaarankatu 3-9, 02600 Espoo, Finland   \n",
      "4      Vantaanportinkatu 3, 01510 Vantaa, Finland   \n",
      "\n",
      "                                              buffer  \n",
      "0  POLYGON ((25506098.602 6677662.109, 25506091.3...  \n",
      "1  POLYGON ((25498073.542 6672878.360, 25498066.3...  \n",
      "2  POLYGON ((25486956.867 6671954.184, 25486949.6...  \n",
      "3  POLYGON ((25490991.076 6678322.265, 25490983.8...  \n",
      "4  POLYGON ((25499443.932 6686656.982, 25499436.7...  \n"
     ]
    }
   ],
   "source": [
    "#NON-EDITABLE TEST CELL\n",
    "print(geodata.head())"
   ]
  },
  {
   "cell_type": "code",
   "execution_count": 15,
   "metadata": {
    "deletable": false,
    "editable": false,
    "nbgrader": {
     "cell_type": "code",
     "checksum": "3aa92b08ec2320d792f9de905622df3d",
     "grade": true,
     "grade_id": "problem_2_shape_test",
     "locked": true,
     "points": 1,
     "schema_version": 3,
     "solution": false,
     "task": false
    }
   },
   "outputs": [
    {
     "name": "stdout",
     "output_type": "stream",
     "text": [
      "<class 'shapely.geometry.polygon.Polygon'>\n"
     ]
    }
   ],
   "source": [
    "#NON-EDITABLE TEST CELL\n",
    "# Check the data type of the first value in the buffer-column\n",
    "print(type(geodata.at[0,'buffer']))"
   ]
  },
  {
   "cell_type": "code",
   "execution_count": 16,
   "metadata": {
    "deletable": false,
    "editable": false,
    "nbgrader": {
     "cell_type": "code",
     "checksum": "d6e0fe9059fff655e76e4ca36a024253",
     "grade": true,
     "grade_id": "problem_2_buffer_test",
     "locked": true,
     "points": 2,
     "schema_version": 3,
     "solution": false
    }
   },
   "outputs": [
    {
     "name": "stdout",
     "output_type": "stream",
     "text": [
      "0    7.0\n",
      "1    7.0\n",
      "2    7.0\n",
      "3    7.0\n",
      "4    7.0\n",
      "5    7.0\n",
      "6    7.0\n",
      "dtype: float64\n"
     ]
    }
   ],
   "source": [
    "#NON-EDITABLE TEST CELL\n",
    "# Check the areas of your buffers in km^2\n",
    "print(round(gpd.GeoSeries(geodata[\"buffer\"]).area / 1000000))"
   ]
  },
  {
   "cell_type": "markdown",
   "metadata": {},
   "source": [
    "- Replace the values in `geometry` column with the values of `buffer` column:"
   ]
  },
  {
   "cell_type": "code",
   "execution_count": 17,
   "metadata": {
    "deletable": false,
    "nbgrader": {
     "cell_type": "code",
     "checksum": "4dbc3cfc149f2391c1c6b4274603a8e9",
     "grade": false,
     "grade_id": "geometry",
     "locked": false,
     "schema_version": 3,
     "solution": true
    }
   },
   "outputs": [],
   "source": [
    "geodata['geometry'] = geodata['buffer']"
   ]
  },
  {
   "cell_type": "code",
   "execution_count": 18,
   "metadata": {
    "deletable": false,
    "editable": false,
    "nbgrader": {
     "cell_type": "code",
     "checksum": "47a972c42e423c1597440885fa571d34",
     "grade": true,
     "grade_id": "problem_2_geometry_test",
     "locked": true,
     "points": 1,
     "schema_version": 3,
     "solution": false
    }
   },
   "outputs": [
    {
     "name": "stdout",
     "output_type": "stream",
     "text": [
      "                                            geometry  \\\n",
      "0  POLYGON ((25506098.602 6677662.109, 25506091.3...   \n",
      "1  POLYGON ((25498073.542 6672878.360, 25498066.3...   \n",
      "2  POLYGON ((25486956.867 6671954.184, 25486949.6...   \n",
      "3  POLYGON ((25490991.076 6678322.265, 25490983.8...   \n",
      "4  POLYGON ((25499443.932 6686656.982, 25499436.7...   \n",
      "\n",
      "                                             address    id       name  \\\n",
      "0  Kauppakeskus Itis, 1-7, Itäkatu, Itäkeskus, Va...  1000       Itis   \n",
      "1  Salaattiasema, 14-20, Mannerheimintie, Keskust...  1001      Forum   \n",
      "2  Captain Corvus, 11, Piispansilta, Matinkylän k...  1002  Iso-omena   \n",
      "3  Lasten kappeli Arkki, 3-9, Leppävaarankatu, Sä...  1003      Sello   \n",
      "4  Stockmann, 3, Vantaanportinkatu, Vantaanportti...  1004      Jumbo   \n",
      "\n",
      "                                             addr  \\\n",
      "0            Itäkatu 1-7, 00930 Helsinki, Finland   \n",
      "1  Mannerheimintie 14–20, 00100 Helsinki, Finland   \n",
      "2           Piispansilta 11, 02230 Espoo, Finland   \n",
      "3       Leppävaarankatu 3-9, 02600 Espoo, Finland   \n",
      "4      Vantaanportinkatu 3, 01510 Vantaa, Finland   \n",
      "\n",
      "                                              buffer  \n",
      "0  POLYGON ((25506098.602 6677662.109, 25506091.3...  \n",
      "1  POLYGON ((25498073.542 6672878.360, 25498066.3...  \n",
      "2  POLYGON ((25486956.867 6671954.184, 25486949.6...  \n",
      "3  POLYGON ((25490991.076 6678322.265, 25490983.8...  \n",
      "4  POLYGON ((25499443.932 6686656.982, 25499436.7...  \n"
     ]
    }
   ],
   "source": [
    "#NON-EDITABLE TEST CELL\n",
    "print(geodata.head())"
   ]
  },
  {
   "cell_type": "markdown",
   "metadata": {},
   "source": [
    "Optional: at this point, you can drop out unnecessary columns from the geodataframe. In the next problem, \n",
    "we will only need these columns: `'id', 'name', 'geometry'`"
   ]
  },
  {
   "cell_type": "code",
   "execution_count": 19,
   "metadata": {},
   "outputs": [],
   "source": [
    "geodata = geodata.drop(['address', 'addr', 'buffer'], axis=1)"
   ]
  },
  {
   "cell_type": "code",
   "execution_count": 20,
   "metadata": {},
   "outputs": [
    {
     "data": {
      "text/html": [
       "<div>\n",
       "<style scoped>\n",
       "    .dataframe tbody tr th:only-of-type {\n",
       "        vertical-align: middle;\n",
       "    }\n",
       "\n",
       "    .dataframe tbody tr th {\n",
       "        vertical-align: top;\n",
       "    }\n",
       "\n",
       "    .dataframe thead th {\n",
       "        text-align: right;\n",
       "    }\n",
       "</style>\n",
       "<table border=\"1\" class=\"dataframe\">\n",
       "  <thead>\n",
       "    <tr style=\"text-align: right;\">\n",
       "      <th></th>\n",
       "      <th>geometry</th>\n",
       "      <th>id</th>\n",
       "      <th>name</th>\n",
       "    </tr>\n",
       "  </thead>\n",
       "  <tbody>\n",
       "    <tr>\n",
       "      <th>0</th>\n",
       "      <td>POLYGON ((25506098.602 6677662.109, 25506091.3...</td>\n",
       "      <td>1000</td>\n",
       "      <td>Itis</td>\n",
       "    </tr>\n",
       "    <tr>\n",
       "      <th>1</th>\n",
       "      <td>POLYGON ((25498073.542 6672878.360, 25498066.3...</td>\n",
       "      <td>1001</td>\n",
       "      <td>Forum</td>\n",
       "    </tr>\n",
       "    <tr>\n",
       "      <th>2</th>\n",
       "      <td>POLYGON ((25486956.867 6671954.184, 25486949.6...</td>\n",
       "      <td>1002</td>\n",
       "      <td>Iso-omena</td>\n",
       "    </tr>\n",
       "    <tr>\n",
       "      <th>3</th>\n",
       "      <td>POLYGON ((25490991.076 6678322.265, 25490983.8...</td>\n",
       "      <td>1003</td>\n",
       "      <td>Sello</td>\n",
       "    </tr>\n",
       "    <tr>\n",
       "      <th>4</th>\n",
       "      <td>POLYGON ((25499443.932 6686656.982, 25499436.7...</td>\n",
       "      <td>1004</td>\n",
       "      <td>Jumbo</td>\n",
       "    </tr>\n",
       "  </tbody>\n",
       "</table>\n",
       "</div>"
      ],
      "text/plain": [
       "                                            geometry    id       name\n",
       "0  POLYGON ((25506098.602 6677662.109, 25506091.3...  1000       Itis\n",
       "1  POLYGON ((25498073.542 6672878.360, 25498066.3...  1001      Forum\n",
       "2  POLYGON ((25486956.867 6671954.184, 25486949.6...  1002  Iso-omena\n",
       "3  POLYGON ((25490991.076 6678322.265, 25490983.8...  1003      Sello\n",
       "4  POLYGON ((25499443.932 6686656.982, 25499436.7...  1004      Jumbo"
      ]
     },
     "execution_count": 20,
     "metadata": {},
     "output_type": "execute_result"
    }
   ],
   "source": [
    "geodata.head()"
   ]
  },
  {
   "cell_type": "markdown",
   "metadata": {},
   "source": [
    "## Problem 3: How many people live near shopping centers? (5 points)\n",
    "\n",
    "Last step in our analysis is to make a spatial join between our buffer layer and population data in order to find out **how many people live near each shopping center**. We will use the same data as we did during [lesson 3](https://automating-gis-processes.github.io/site/notebooks/L3/spatial-join.html#Spatial-join); **a Population Grid** that is available via the HSY wfs. \n",
    "\n",
    "Alternatively, you can also download the data from the [Helsinki Region Infoshare (HRI)](https://hri.fi/data/en_GB/dataset/vaestotietoruudukko) on your computer and read it in using geopandas.\n",
    "\n",
    "The coordinate reference system of the population grid is **ETRS GK-25 (EPSG:3879)**.\n",
    "\n",
    "\n",
    "**Steps:**\n",
    "\n",
    "- Read the population grid into a geodataframe\n",
    "\n",
    "- Select only the useful columns from the population grid: ``'asukkaita'`` (=population count per grid square) and ``'geometry'`` \n",
    "\n",
    "- Make a spatial join between your buffered point layer and population grid layer. Join the information now from buffer layer **into the population grid layer**\n",
    "\n",
    "- Group the joined layer by shopping center index\n",
    "\n",
    "- Calculate the sum of population living within 1.5 km for each shopping center.\n",
    "\n",
    "**Finally:**\n",
    "\n",
    "- Print out the population living within 1.5 km from each shopping center:\n",
    "\n",
    "     - Itis\n",
    "     - Forum\n",
    "     - Iso-omena\n",
    "     - Sello\n",
    "     - Jumbo\n",
    "     - REDI\n",
    "     - Mall of Tripla\n",
    "     \n",
    "**Final print out should contain both the shopping center name and population count**, for example: `25858 people live within 1.5 km from Iso-Omena`.\n",
    "\n",
    "*Feel free to divide your solution into several codeblocks! Remember to comment your code  :)*"
   ]
  },
  {
   "cell_type": "code",
   "execution_count": 21,
   "metadata": {},
   "outputs": [],
   "source": [
    "# Specify the url for web feature service\n",
    "url = 'https://kartta.hsy.fi/geoserver/wfs'\n",
    "\n",
    "# Specify parameters (read data in json format).\n",
    "# Available feature types in this particular data source: http://geo.stat.fi/geoserver/vaestoruutu/wfs?service=wfs&version=2.0.0&request=describeFeatureType\n",
    "params = dict(service='WFS',\n",
    "              version='2.0.0',\n",
    "              request='GetFeature',\n",
    "              typeName='asuminen_ja_maankaytto:Vaestotietoruudukko_2018',\n",
    "              outputFormat='json')\n",
    "\n",
    "# Fetch data from WFS using requests\n",
    "r = requests.get(url, params=params)\n",
    "\n",
    "# Create GeoDataFrame from geojson\n",
    "pop = gpd.GeoDataFrame.from_features(geojson.loads(r.content))\n"
   ]
  },
  {
   "cell_type": "code",
   "execution_count": 22,
   "metadata": {},
   "outputs": [
    {
     "data": {
      "text/html": [
       "<div>\n",
       "<style scoped>\n",
       "    .dataframe tbody tr th:only-of-type {\n",
       "        vertical-align: middle;\n",
       "    }\n",
       "\n",
       "    .dataframe tbody tr th {\n",
       "        vertical-align: top;\n",
       "    }\n",
       "\n",
       "    .dataframe thead th {\n",
       "        text-align: right;\n",
       "    }\n",
       "</style>\n",
       "<table border=\"1\" class=\"dataframe\">\n",
       "  <thead>\n",
       "    <tr style=\"text-align: right;\">\n",
       "      <th></th>\n",
       "      <th>pop18</th>\n",
       "      <th>geometry</th>\n",
       "    </tr>\n",
       "  </thead>\n",
       "  <tbody>\n",
       "    <tr>\n",
       "      <th>0</th>\n",
       "      <td>108</td>\n",
       "      <td>MULTIPOLYGON Z (((25476499.999 6674248.999 0.0...</td>\n",
       "    </tr>\n",
       "    <tr>\n",
       "      <th>1</th>\n",
       "      <td>273</td>\n",
       "      <td>MULTIPOLYGON Z (((25476749.997 6674498.998 0.0...</td>\n",
       "    </tr>\n",
       "    <tr>\n",
       "      <th>2</th>\n",
       "      <td>239</td>\n",
       "      <td>MULTIPOLYGON Z (((25476999.994 6675749.004 0.0...</td>\n",
       "    </tr>\n",
       "    <tr>\n",
       "      <th>3</th>\n",
       "      <td>202</td>\n",
       "      <td>MULTIPOLYGON Z (((25476999.994 6675499.004 0.0...</td>\n",
       "    </tr>\n",
       "    <tr>\n",
       "      <th>4</th>\n",
       "      <td>261</td>\n",
       "      <td>MULTIPOLYGON Z (((25476999.994 6675249.005 0.0...</td>\n",
       "    </tr>\n",
       "  </tbody>\n",
       "</table>\n",
       "</div>"
      ],
      "text/plain": [
       "   pop18                                           geometry\n",
       "0    108  MULTIPOLYGON Z (((25476499.999 6674248.999 0.0...\n",
       "1    273  MULTIPOLYGON Z (((25476749.997 6674498.998 0.0...\n",
       "2    239  MULTIPOLYGON Z (((25476999.994 6675749.004 0.0...\n",
       "3    202  MULTIPOLYGON Z (((25476999.994 6675499.004 0.0...\n",
       "4    261  MULTIPOLYGON Z (((25476999.994 6675249.005 0.0..."
      ]
     },
     "execution_count": 22,
     "metadata": {},
     "output_type": "execute_result"
    }
   ],
   "source": [
    "pop = pop.rename(columns={'asukkaita': 'pop18'})\n",
    "pop = pop[[\"pop18\", \"geometry\"]]\n",
    "pop.head()"
   ]
  },
  {
   "cell_type": "code",
   "execution_count": 23,
   "metadata": {
    "deletable": false,
    "nbgrader": {
     "cell_type": "code",
     "checksum": "629fe93329c8fe47162e31b2cd8c260e",
     "grade": false,
     "grade_id": "read_wfs",
     "locked": false,
     "schema_version": 3,
     "solution": true,
     "task": false
    }
   },
   "outputs": [
    {
     "data": {
      "text/plain": [
       "True"
      ]
     },
     "execution_count": 23,
     "metadata": {},
     "output_type": "execute_result"
    }
   ],
   "source": [
    "# Read population grid data for 2018 into a variable `pop`. \n",
    "# Remember to check the crs info! \n",
    "\n",
    "pop.crs = CRS.from_epsg(3879)\n",
    "geodata.crs\n",
    "pop.crs == geodata.crs"
   ]
  },
  {
   "cell_type": "code",
   "execution_count": 24,
   "metadata": {
    "deletable": false,
    "editable": false,
    "nbgrader": {
     "cell_type": "code",
     "checksum": "8fe4f1ecd4466cf975714202c832be7e",
     "grade": true,
     "grade_id": "problem_3_read_data_test",
     "locked": true,
     "points": 1,
     "schema_version": 3,
     "solution": false,
     "task": false
    }
   },
   "outputs": [
    {
     "name": "stdout",
     "output_type": "stream",
     "text": [
      "Number of rows: 3167\n",
      "   pop18                                           geometry\n",
      "0    108  MULTIPOLYGON Z (((25476499.999 6674248.999 0.0...\n",
      "1    273  MULTIPOLYGON Z (((25476749.997 6674498.998 0.0...\n",
      "2    239  MULTIPOLYGON Z (((25476999.994 6675749.004 0.0...\n"
     ]
    }
   ],
   "source": [
    "#NON-EDITABLE TEST CELL\n",
    "# Check your input data\n",
    "print(\"Number of rows:\", len(pop))\n",
    "print(pop.head(3))"
   ]
  },
  {
   "cell_type": "code",
   "execution_count": 25,
   "metadata": {
    "deletable": false,
    "nbgrader": {
     "cell_type": "code",
     "checksum": "92e87958a8ce4e2b8e5ae77689445df8",
     "grade": false,
     "grade_id": "spatial_join",
     "locked": false,
     "schema_version": 3,
     "solution": true
    }
   },
   "outputs": [
    {
     "data": {
      "text/html": [
       "<div>\n",
       "<style scoped>\n",
       "    .dataframe tbody tr th:only-of-type {\n",
       "        vertical-align: middle;\n",
       "    }\n",
       "\n",
       "    .dataframe tbody tr th {\n",
       "        vertical-align: top;\n",
       "    }\n",
       "\n",
       "    .dataframe thead th {\n",
       "        text-align: right;\n",
       "    }\n",
       "</style>\n",
       "<table border=\"1\" class=\"dataframe\">\n",
       "  <thead>\n",
       "    <tr style=\"text-align: right;\">\n",
       "      <th></th>\n",
       "      <th>pop18</th>\n",
       "      <th>geometry</th>\n",
       "      <th>index_right</th>\n",
       "      <th>id</th>\n",
       "      <th>name</th>\n",
       "    </tr>\n",
       "  </thead>\n",
       "  <tbody>\n",
       "    <tr>\n",
       "      <th>404</th>\n",
       "      <td>116</td>\n",
       "      <td>MULTIPOLYGON Z (((25484250.000 6672499.005 0.0...</td>\n",
       "      <td>2</td>\n",
       "      <td>1002</td>\n",
       "      <td>Iso-omena</td>\n",
       "    </tr>\n",
       "    <tr>\n",
       "      <th>423</th>\n",
       "      <td>114</td>\n",
       "      <td>MULTIPOLYGON Z (((25484499.998 6672749.004 0.0...</td>\n",
       "      <td>2</td>\n",
       "      <td>1002</td>\n",
       "      <td>Iso-omena</td>\n",
       "    </tr>\n",
       "    <tr>\n",
       "      <th>424</th>\n",
       "      <td>128</td>\n",
       "      <td>MULTIPOLYGON Z (((25484499.998 6672499.005 0.0...</td>\n",
       "      <td>2</td>\n",
       "      <td>1002</td>\n",
       "      <td>Iso-omena</td>\n",
       "    </tr>\n",
       "    <tr>\n",
       "      <th>425</th>\n",
       "      <td>241</td>\n",
       "      <td>MULTIPOLYGON Z (((25484499.998 6671998.997 0.0...</td>\n",
       "      <td>2</td>\n",
       "      <td>1002</td>\n",
       "      <td>Iso-omena</td>\n",
       "    </tr>\n",
       "    <tr>\n",
       "      <th>426</th>\n",
       "      <td>305</td>\n",
       "      <td>MULTIPOLYGON Z (((25484499.998 6671748.997 0.0...</td>\n",
       "      <td>2</td>\n",
       "      <td>1002</td>\n",
       "      <td>Iso-omena</td>\n",
       "    </tr>\n",
       "  </tbody>\n",
       "</table>\n",
       "</div>"
      ],
      "text/plain": [
       "     pop18                                           geometry  index_right  \\\n",
       "404    116  MULTIPOLYGON Z (((25484250.000 6672499.005 0.0...            2   \n",
       "423    114  MULTIPOLYGON Z (((25484499.998 6672749.004 0.0...            2   \n",
       "424    128  MULTIPOLYGON Z (((25484499.998 6672499.005 0.0...            2   \n",
       "425    241  MULTIPOLYGON Z (((25484499.998 6671998.997 0.0...            2   \n",
       "426    305  MULTIPOLYGON Z (((25484499.998 6671748.997 0.0...            2   \n",
       "\n",
       "       id       name  \n",
       "404  1002  Iso-omena  \n",
       "423  1002  Iso-omena  \n",
       "424  1002  Iso-omena  \n",
       "425  1002  Iso-omena  \n",
       "426  1002  Iso-omena  "
      ]
     },
     "execution_count": 25,
     "metadata": {},
     "output_type": "execute_result"
    }
   ],
   "source": [
    "# Create a spatial join between grid layer and buffer layer. \n",
    "\n",
    "join = gpd.sjoin(pop, geodata, how=\"inner\", op=\"within\")\n",
    "join.head()"
   ]
  },
  {
   "cell_type": "code",
   "execution_count": 26,
   "metadata": {},
   "outputs": [
    {
     "data": {
      "text/plain": [
       "<AxesSubplot:>"
      ]
     },
     "execution_count": 26,
     "metadata": {},
     "output_type": "execute_result"
    },
    {
     "data": {
      "image/png": "[encoded data removed]",
      "text/plain": [
       "<Figure size 1080x576 with 1 Axes>"
      ]
     },
     "metadata": {
      "needs_background": "light"
     },
     "output_type": "display_data"
    }
   ],
   "source": [
    "fig, ax = plt.subplots(figsize=(15,8))\n",
    "\n",
    "# Plot population grid\n",
    "pop.plot(ax=ax)\n",
    "\n",
    "# Plot points\n",
    "geodata.plot(ax=ax, color='red', markersize=5)"
   ]
  },
  {
   "cell_type": "code",
   "execution_count": 54,
   "metadata": {},
   "outputs": [
    {
     "name": "stdout",
     "output_type": "stream",
     "text": [
      "True\n"
     ]
    },
    {
     "data": {
      "text/html": [
       "<div>\n",
       "<style scoped>\n",
       "    .dataframe tbody tr th:only-of-type {\n",
       "        vertical-align: middle;\n",
       "    }\n",
       "\n",
       "    .dataframe tbody tr th {\n",
       "        vertical-align: top;\n",
       "    }\n",
       "\n",
       "    .dataframe thead th {\n",
       "        text-align: right;\n",
       "    }\n",
       "</style>\n",
       "<table border=\"1\" class=\"dataframe\">\n",
       "  <thead>\n",
       "    <tr style=\"text-align: right;\">\n",
       "      <th></th>\n",
       "      <th>pop18</th>\n",
       "      <th>geometry</th>\n",
       "      <th>index_right</th>\n",
       "      <th>id</th>\n",
       "      <th>name</th>\n",
       "    </tr>\n",
       "  </thead>\n",
       "  <tbody>\n",
       "    <tr>\n",
       "      <th>1513</th>\n",
       "      <td>468</td>\n",
       "      <td>MULTIPOLYGON Z (((25495249.995 6673249.002 0.0...</td>\n",
       "      <td>1</td>\n",
       "      <td>1001</td>\n",
       "      <td>Forum</td>\n",
       "    </tr>\n",
       "    <tr>\n",
       "      <th>1514</th>\n",
       "      <td>515</td>\n",
       "      <td>MULTIPOLYGON Z (((25495249.995 6672249.006 0.0...</td>\n",
       "      <td>1</td>\n",
       "      <td>1001</td>\n",
       "      <td>Forum</td>\n",
       "    </tr>\n",
       "    <tr>\n",
       "      <th>1543</th>\n",
       "      <td>2123</td>\n",
       "      <td>MULTIPOLYGON Z (((25495499.993 6673499.001 0.0...</td>\n",
       "      <td>1</td>\n",
       "      <td>1001</td>\n",
       "      <td>Forum</td>\n",
       "    </tr>\n",
       "    <tr>\n",
       "      <th>1544</th>\n",
       "      <td>1955</td>\n",
       "      <td>MULTIPOLYGON Z (((25495499.993 6673249.002 0.0...</td>\n",
       "      <td>1</td>\n",
       "      <td>1001</td>\n",
       "      <td>Forum</td>\n",
       "    </tr>\n",
       "    <tr>\n",
       "      <th>1545</th>\n",
       "      <td>807</td>\n",
       "      <td>MULTIPOLYGON Z (((25495499.993 6672999.003 0.0...</td>\n",
       "      <td>1</td>\n",
       "      <td>1001</td>\n",
       "      <td>Forum</td>\n",
       "    </tr>\n",
       "    <tr>\n",
       "      <th>...</th>\n",
       "      <td>...</td>\n",
       "      <td>...</td>\n",
       "      <td>...</td>\n",
       "      <td>...</td>\n",
       "      <td>...</td>\n",
       "    </tr>\n",
       "    <tr>\n",
       "      <th>1810</th>\n",
       "      <td>1759</td>\n",
       "      <td>MULTIPOLYGON Z (((25497499.999 6673499.001 0.0...</td>\n",
       "      <td>1</td>\n",
       "      <td>1001</td>\n",
       "      <td>Forum</td>\n",
       "    </tr>\n",
       "    <tr>\n",
       "      <th>1811</th>\n",
       "      <td>1875</td>\n",
       "      <td>MULTIPOLYGON Z (((25497499.999 6673249.002 0.0...</td>\n",
       "      <td>1</td>\n",
       "      <td>1001</td>\n",
       "      <td>Forum</td>\n",
       "    </tr>\n",
       "    <tr>\n",
       "      <th>1812</th>\n",
       "      <td>1167</td>\n",
       "      <td>MULTIPOLYGON Z (((25497499.999 6672999.003 0.0...</td>\n",
       "      <td>1</td>\n",
       "      <td>1001</td>\n",
       "      <td>Forum</td>\n",
       "    </tr>\n",
       "    <tr>\n",
       "      <th>1848</th>\n",
       "      <td>207</td>\n",
       "      <td>MULTIPOLYGON Z (((25497749.996 6672999.003 0.0...</td>\n",
       "      <td>1</td>\n",
       "      <td>1001</td>\n",
       "      <td>Forum</td>\n",
       "    </tr>\n",
       "    <tr>\n",
       "      <th>1849</th>\n",
       "      <td>382</td>\n",
       "      <td>MULTIPOLYGON Z (((25497749.996 6672749.004 0.0...</td>\n",
       "      <td>1</td>\n",
       "      <td>1001</td>\n",
       "      <td>Forum</td>\n",
       "    </tr>\n",
       "  </tbody>\n",
       "</table>\n",
       "<p>61 rows × 5 columns</p>\n",
       "</div>"
      ],
      "text/plain": [
       "      pop18                                           geometry  index_right  \\\n",
       "1513    468  MULTIPOLYGON Z (((25495249.995 6673249.002 0.0...            1   \n",
       "1514    515  MULTIPOLYGON Z (((25495249.995 6672249.006 0.0...            1   \n",
       "1543   2123  MULTIPOLYGON Z (((25495499.993 6673499.001 0.0...            1   \n",
       "1544   1955  MULTIPOLYGON Z (((25495499.993 6673249.002 0.0...            1   \n",
       "1545    807  MULTIPOLYGON Z (((25495499.993 6672999.003 0.0...            1   \n",
       "...     ...                                                ...          ...   \n",
       "1810   1759  MULTIPOLYGON Z (((25497499.999 6673499.001 0.0...            1   \n",
       "1811   1875  MULTIPOLYGON Z (((25497499.999 6673249.002 0.0...            1   \n",
       "1812   1167  MULTIPOLYGON Z (((25497499.999 6672999.003 0.0...            1   \n",
       "1848    207  MULTIPOLYGON Z (((25497749.996 6672999.003 0.0...            1   \n",
       "1849    382  MULTIPOLYGON Z (((25497749.996 6672749.004 0.0...            1   \n",
       "\n",
       "        id   name  \n",
       "1513  1001  Forum  \n",
       "1514  1001  Forum  \n",
       "1543  1001  Forum  \n",
       "1544  1001  Forum  \n",
       "1545  1001  Forum  \n",
       "...    ...    ...  \n",
       "1810  1001  Forum  \n",
       "1811  1001  Forum  \n",
       "1812  1001  Forum  \n",
       "1848  1001  Forum  \n",
       "1849  1001  Forum  \n",
       "\n",
       "[61 rows x 5 columns]"
      ]
     },
     "execution_count": 54,
     "metadata": {},
     "output_type": "execute_result"
    }
   ],
   "source": [
    "grouped = join.groupby(\"index_right\")\n",
    "print(len(grouped) == join[\"index_right\"].nunique())\n",
    "grouped.get_group(1)"
   ]
  },
  {
   "cell_type": "code",
   "execution_count": 50,
   "metadata": {
    "deletable": false,
    "nbgrader": {
     "cell_type": "code",
     "checksum": "fe6b621e6f3d39eb5aa375c864268a03",
     "grade": false,
     "grade_id": "print_results",
     "locked": false,
     "schema_version": 3,
     "solution": true,
     "task": false
    }
   },
   "outputs": [
    {
     "name": "stdout",
     "output_type": "stream",
     "text": [
      "19930 people live within 1.5km from Itis\n",
      "56394 people live within 1.5km from Forum\n",
      "25976 people live within 1.5km from Iso-omena\n",
      "20191 people live within 1.5km from Sello\n",
      "10317 people live within 1.5km from Jumbo\n",
      "24540 people live within 1.5km from Redi\n",
      "23421 people live within 1.5km from Mall of Tripla\n"
     ]
    }
   ],
   "source": [
    "# Report how many people live within 1.5 km distance from each shopping center\n",
    "\n",
    "for key, group in grouped:\n",
    "    shopping_center = group.iat[1,4]\n",
    "    pop_sum = group['pop18'].sum()\n",
    "    print(\"{} people live within 1.5km from {}\".format(pop_sum, shopping_center))"
   ]
  },
  {
   "cell_type": "markdown",
   "metadata": {},
   "source": [
    "**Reflections:**\n",
    "    \n",
    "- How challenging did you find problems 1-3 (on scale to 1-5), and why?\n",
    "- What was easy?\n",
    "- What was difficult?"
   ]
  },
  {
   "cell_type": "markdown",
   "metadata": {
    "deletable": false,
    "nbgrader": {
     "cell_type": "markdown",
     "checksum": "ae8c161a5ec09a095453240cd41b6da8",
     "grade": true,
     "grade_id": "problem_3_Check_problem_3",
     "locked": false,
     "points": 4,
     "schema_version": 3,
     "solution": true
    }
   },
   "source": [
    "YOUR ANSWER HERE"
   ]
  },
  {
   "cell_type": "markdown",
   "metadata": {},
   "source": [
    "Well done! Now you can continue to [problem 4](Exercise-3-Problem-4.ipynb)"
   ]
  }
 ],
 "metadata": {
  "anaconda-cloud": {},
  "kernelspec": {
   "display_name": "Python 3",
   "language": "python",
   "name": "python3"
  },
  "language_info": {
   "codemirror_mode": {
    "name": "ipython",
    "version": 3
   },
   "file_extension": ".py",
   "mimetype": "text/x-python",
   "name": "python",
   "nbconvert_exporter": "python",
   "pygments_lexer": "ipython3",
   "version": "3.9.5"
  }
 },
 "nbformat": 4,
 "nbformat_minor": 4
}
